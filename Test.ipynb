{
 "cells": [
  {
   "cell_type": "code",
   "execution_count": null,
   "id": "6cdb561c-d4d2-4d80-9643-f0d71041ec66",
   "metadata": {},
   "outputs": [],
   "source": [
    "\"Hello everyone! First we need to import some packages that allow us to analyse our Data\"\n",
    "\n",
    "import numpy as np\n",
    "import math \n",
    "import uproot \n"
   ]
  },
  {
   "cell_type": "code",
   "execution_count": null,
   "id": "8bab25ca-ed12-4592-ba51-1d781737b40e",
   "metadata": {},
   "outputs": [],
   "source": [
    "\"Then we need to download our data\" \n",
    "\n",
    "file = uproot.open(\"data_pp.root\")"
   ]
  },
  {
   "cell_type": "code",
   "execution_count": null,
   "id": "4bf217e8-fd48-4ab6-831a-1823fcd05167",
   "metadata": {},
   "outputs": [],
   "source": []
  }
 ],
 "metadata": {
  "kernelspec": {
   "display_name": "Python 3 (ipykernel)",
   "language": "python",
   "name": "python3"
  },
  "language_info": {
   "codemirror_mode": {
    "name": "ipython",
    "version": 3
   },
   "file_extension": ".py",
   "mimetype": "text/x-python",
   "name": "python",
   "nbconvert_exporter": "python",
   "pygments_lexer": "ipython3",
   "version": "3.9.12"
  }
 },
 "nbformat": 4,
 "nbformat_minor": 5
}
